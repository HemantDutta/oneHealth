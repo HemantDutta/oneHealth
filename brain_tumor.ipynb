{
 "cells": [
  {
   "cell_type": "markdown",
   "id": "10e71e2e-7d2a-489c-ad9d-1e3a4a94b74b",
   "metadata": {},
   "source": [
    "# Installing the important packages"
   ]
  },
  {
   "cell_type": "code",
   "execution_count": null,
   "id": "603ea3a6-0d55-45e3-9e82-6378acfcf33c",
   "metadata": {},
   "outputs": [],
   "source": [
    "!pip install opencv-python\n",
    "import cv2"
   ]
  },
  {
   "cell_type": "code",
   "execution_count": 2,
   "id": "719f2eaa-d60b-4b03-a1e8-abaec9819333",
   "metadata": {
    "collapsed": true,
    "jupyter": {
     "outputs_hidden": true
    },
    "tags": []
   },
   "outputs": [
    {
     "name": "stdout",
     "output_type": "stream",
     "text": [
      "Defaulting to user installation because normal site-packages is not writeable\n",
      "\u001b[33mWARNING: Ignoring invalid distribution - (/home/u200172/.local/lib/python3.9/site-packages)\u001b[0m\u001b[33m\n",
      "\u001b[0m\u001b[33mWARNING: Ignoring invalid distribution -ensorflow (/home/u200172/.local/lib/python3.9/site-packages)\u001b[0m\u001b[33m\n",
      "\u001b[0m\u001b[33mWARNING: Ignoring invalid distribution - (/home/u200172/.local/lib/python3.9/site-packages)\u001b[0m\u001b[33m\n",
      "\u001b[0m\u001b[33mWARNING: Ignoring invalid distribution -ensorflow (/home/u200172/.local/lib/python3.9/site-packages)\u001b[0m\u001b[33m\n",
      "\u001b[0mRequirement already satisfied: tensorflow in ./.local/lib/python3.9/site-packages (2.12.0rc1)\n",
      "Requirement already satisfied: grpcio<2.0,>=1.24.3 in ./.local/lib/python3.9/site-packages (from tensorflow) (1.57.0)\n",
      "Requirement already satisfied: absl-py>=1.0.0 in ./.local/lib/python3.9/site-packages (from tensorflow) (1.4.0)\n",
      "Requirement already satisfied: libclang>=13.0.0 in ./.local/lib/python3.9/site-packages (from tensorflow) (16.0.6)\n",
      "Requirement already satisfied: h5py>=2.9.0 in ./.local/lib/python3.9/site-packages (from tensorflow) (3.9.0)\n",
      "Requirement already satisfied: termcolor>=1.1.0 in ./.local/lib/python3.9/site-packages (from tensorflow) (2.3.0)\n",
      "Requirement already satisfied: keras<2.13,>=2.12.0rc0 in ./.local/lib/python3.9/site-packages (from tensorflow) (2.12.0)\n",
      "Requirement already satisfied: protobuf!=4.21.0,!=4.21.1,!=4.21.2,!=4.21.3,!=4.21.4,!=4.21.5,<5.0.0dev,>=3.20.3 in ./.local/lib/python3.9/site-packages (from tensorflow) (4.24.0)\n",
      "Requirement already satisfied: numpy<1.24,>=1.22 in ./.local/lib/python3.9/site-packages (from tensorflow) (1.22.4)\n",
      "Requirement already satisfied: typing-extensions>=3.6.6 in ./.local/lib/python3.9/site-packages (from tensorflow) (4.5.0)\n",
      "Requirement already satisfied: flatbuffers>=2.0 in ./.local/lib/python3.9/site-packages (from tensorflow) (23.5.26)\n",
      "Requirement already satisfied: six>=1.12.0 in /glob/development-tools/versions/oneapi/2023.1.2/oneapi/intelpython/python3.9/lib/python3.9/site-packages (from tensorflow) (1.16.0)\n",
      "Requirement already satisfied: jax>=0.3.15 in ./.local/lib/python3.9/site-packages (from tensorflow) (0.4.14)\n",
      "Requirement already satisfied: tensorflow-io-gcs-filesystem>=0.23.1 in ./.local/lib/python3.9/site-packages (from tensorflow) (0.33.0)\n",
      "Requirement already satisfied: google-pasta>=0.1.1 in ./.local/lib/python3.9/site-packages (from tensorflow) (0.2.0)\n",
      "Requirement already satisfied: wrapt<1.15,>=1.11.0 in ./.local/lib/python3.9/site-packages (from tensorflow) (1.14.1)\n",
      "Requirement already satisfied: astunparse>=1.6.0 in ./.local/lib/python3.9/site-packages (from tensorflow) (1.6.3)\n",
      "Requirement already satisfied: tensorflow-estimator<2.13,>=2.12.0rc0 in ./.local/lib/python3.9/site-packages (from tensorflow) (2.12.0)\n",
      "Requirement already satisfied: tensorboard<2.13,>=2.12 in ./.local/lib/python3.9/site-packages (from tensorflow) (2.12.3)\n",
      "Requirement already satisfied: packaging in /glob/development-tools/versions/oneapi/2023.1.2/oneapi/intelpython/python3.9/lib/python3.9/site-packages (from tensorflow) (22.0)\n",
      "Requirement already satisfied: setuptools in /glob/development-tools/versions/oneapi/2023.1.2/oneapi/intelpython/python3.9/lib/python3.9/site-packages (from tensorflow) (65.6.3)\n",
      "Requirement already satisfied: gast<=0.4.0,>=0.2.1 in ./.local/lib/python3.9/site-packages (from tensorflow) (0.4.0)\n",
      "Requirement already satisfied: opt-einsum>=2.3.2 in ./.local/lib/python3.9/site-packages (from tensorflow) (3.3.0)\n",
      "Requirement already satisfied: wheel<1.0,>=0.23.0 in /glob/development-tools/versions/oneapi/2023.1.2/oneapi/intelpython/python3.9/lib/python3.9/site-packages (from astunparse>=1.6.0->tensorflow) (0.38.4)\n",
      "Requirement already satisfied: scipy>=1.7 in /glob/development-tools/versions/oneapi/2023.1.2/oneapi/intelpython/python3.9/lib/python3.9/site-packages (from jax>=0.3.15->tensorflow) (1.7.3)\n",
      "Requirement already satisfied: importlib-metadata>=4.6 in /glob/development-tools/versions/oneapi/2023.1.2/oneapi/intelpython/python3.9/lib/python3.9/site-packages (from jax>=0.3.15->tensorflow) (6.6.0)\n",
      "Requirement already satisfied: ml-dtypes>=0.2.0 in ./.local/lib/python3.9/site-packages (from jax>=0.3.15->tensorflow) (0.2.0)\n",
      "Requirement already satisfied: google-auth-oauthlib<1.1,>=0.5 in ./.local/lib/python3.9/site-packages (from tensorboard<2.13,>=2.12->tensorflow) (1.0.0)\n",
      "Requirement already satisfied: markdown>=2.6.8 in ./.local/lib/python3.9/site-packages (from tensorboard<2.13,>=2.12->tensorflow) (3.4.4)\n",
      "Requirement already satisfied: requests<3,>=2.21.0 in /glob/development-tools/versions/oneapi/2023.1.2/oneapi/intelpython/python3.9/lib/python3.9/site-packages (from tensorboard<2.13,>=2.12->tensorflow) (2.28.1)\n",
      "Requirement already satisfied: werkzeug>=1.0.1 in ./.local/lib/python3.9/site-packages (from tensorboard<2.13,>=2.12->tensorflow) (2.3.6)\n",
      "Requirement already satisfied: tensorboard-data-server<0.8.0,>=0.7.0 in ./.local/lib/python3.9/site-packages (from tensorboard<2.13,>=2.12->tensorflow) (0.7.1)\n",
      "Requirement already satisfied: google-auth<3,>=1.6.3 in ./.local/lib/python3.9/site-packages (from tensorboard<2.13,>=2.12->tensorflow) (2.22.0)\n",
      "Requirement already satisfied: pyasn1-modules>=0.2.1 in ./.local/lib/python3.9/site-packages (from google-auth<3,>=1.6.3->tensorboard<2.13,>=2.12->tensorflow) (0.3.0)\n",
      "Requirement already satisfied: rsa<5,>=3.1.4 in ./.local/lib/python3.9/site-packages (from google-auth<3,>=1.6.3->tensorboard<2.13,>=2.12->tensorflow) (4.9)\n",
      "Requirement already satisfied: cachetools<6.0,>=2.0.0 in ./.local/lib/python3.9/site-packages (from google-auth<3,>=1.6.3->tensorboard<2.13,>=2.12->tensorflow) (5.3.1)\n",
      "Requirement already satisfied: urllib3<2.0 in /glob/development-tools/versions/oneapi/2023.1.2/oneapi/intelpython/python3.9/lib/python3.9/site-packages (from google-auth<3,>=1.6.3->tensorboard<2.13,>=2.12->tensorflow) (1.26.14)\n",
      "Requirement already satisfied: requests-oauthlib>=0.7.0 in ./.local/lib/python3.9/site-packages (from google-auth-oauthlib<1.1,>=0.5->tensorboard<2.13,>=2.12->tensorflow) (1.3.1)\n",
      "Requirement already satisfied: zipp>=0.5 in /glob/development-tools/versions/oneapi/2023.1.2/oneapi/intelpython/python3.9/lib/python3.9/site-packages (from importlib-metadata>=4.6->jax>=0.3.15->tensorflow) (3.15.0)\n",
      "Requirement already satisfied: certifi>=2017.4.17 in /glob/development-tools/versions/oneapi/2023.1.2/oneapi/intelpython/python3.9/lib/python3.9/site-packages (from requests<3,>=2.21.0->tensorboard<2.13,>=2.12->tensorflow) (2022.12.7)\n",
      "Requirement already satisfied: idna<4,>=2.5 in /glob/development-tools/versions/oneapi/2023.1.2/oneapi/intelpython/python3.9/lib/python3.9/site-packages (from requests<3,>=2.21.0->tensorboard<2.13,>=2.12->tensorflow) (3.4)\n",
      "Requirement already satisfied: charset-normalizer<3,>=2 in /glob/development-tools/versions/oneapi/2023.1.2/oneapi/intelpython/python3.9/lib/python3.9/site-packages (from requests<3,>=2.21.0->tensorboard<2.13,>=2.12->tensorflow) (2.0.4)\n",
      "Requirement already satisfied: MarkupSafe>=2.1.1 in ./.local/lib/python3.9/site-packages (from werkzeug>=1.0.1->tensorboard<2.13,>=2.12->tensorflow) (2.1.3)\n",
      "Requirement already satisfied: pyasn1<0.6.0,>=0.4.6 in ./.local/lib/python3.9/site-packages (from pyasn1-modules>=0.2.1->google-auth<3,>=1.6.3->tensorboard<2.13,>=2.12->tensorflow) (0.5.0)\n",
      "Requirement already satisfied: oauthlib>=3.0.0 in ./.local/lib/python3.9/site-packages (from requests-oauthlib>=0.7.0->google-auth-oauthlib<1.1,>=0.5->tensorboard<2.13,>=2.12->tensorflow) (3.2.2)\n",
      "\u001b[33mWARNING: Ignoring invalid distribution - (/home/u200172/.local/lib/python3.9/site-packages)\u001b[0m\u001b[33m\n",
      "\u001b[0m\u001b[33mWARNING: Ignoring invalid distribution -ensorflow (/home/u200172/.local/lib/python3.9/site-packages)\u001b[0m\u001b[33m\n",
      "\u001b[0m\u001b[33mWARNING: Ignoring invalid distribution - (/home/u200172/.local/lib/python3.9/site-packages)\u001b[0m\u001b[33m\n",
      "\u001b[0m\u001b[33mWARNING: Ignoring invalid distribution -ensorflow (/home/u200172/.local/lib/python3.9/site-packages)\u001b[0m\u001b[33m\n",
      "\u001b[0m\u001b[33mWARNING: Ignoring invalid distribution - (/home/u200172/.local/lib/python3.9/site-packages)\u001b[0m\u001b[33m\n",
      "\u001b[0m\u001b[33mWARNING: Ignoring invalid distribution -ensorflow (/home/u200172/.local/lib/python3.9/site-packages)\u001b[0m\u001b[33m\n",
      "\u001b[0m\u001b[33mWARNING: Ignoring invalid distribution - (/home/u200172/.local/lib/python3.9/site-packages)\u001b[0m\u001b[33m\n",
      "\u001b[0m\u001b[33mWARNING: Ignoring invalid distribution -ensorflow (/home/u200172/.local/lib/python3.9/site-packages)\u001b[0m\u001b[33m\n",
      "\u001b[0m"
     ]
    }
   ],
   "source": [
    "!pip install tensorflow"
   ]
  },
  {
   "cell_type": "code",
   "execution_count": 4,
   "id": "5180c362-6fb7-4b2d-bcf3-22a4fa4e30f7",
   "metadata": {},
   "outputs": [
    {
     "name": "stdout",
     "output_type": "stream",
     "text": [
      "Defaulting to user installation because normal site-packages is not writeable\n",
      "\u001b[33mWARNING: Ignoring invalid distribution - (/home/u200172/.local/lib/python3.9/site-packages)\u001b[0m\u001b[33m\n",
      "\u001b[0m\u001b[33mWARNING: Ignoring invalid distribution -ensorflow (/home/u200172/.local/lib/python3.9/site-packages)\u001b[0m\u001b[33m\n",
      "\u001b[0m\u001b[33mWARNING: Ignoring invalid distribution - (/home/u200172/.local/lib/python3.9/site-packages)\u001b[0m\u001b[33m\n",
      "\u001b[0m\u001b[33mWARNING: Ignoring invalid distribution -ensorflow (/home/u200172/.local/lib/python3.9/site-packages)\u001b[0m\u001b[33m\n",
      "\u001b[0mRequirement already satisfied: intel-extension-for-tensorflow[gpu] in ./.local/lib/python3.9/site-packages (2.13.0.0)\n",
      "Requirement already satisfied: wheel in /glob/development-tools/versions/oneapi/2023.1.2/oneapi/intelpython/python3.9/lib/python3.9/site-packages (from intel-extension-for-tensorflow[gpu]) (0.38.4)\n",
      "Requirement already satisfied: grpcio>=1.8.6 in ./.local/lib/python3.9/site-packages (from intel-extension-for-tensorflow[gpu]) (1.57.0)\n",
      "Requirement already satisfied: numpy<1.24 in ./.local/lib/python3.9/site-packages (from intel-extension-for-tensorflow[gpu]) (1.22.4)\n",
      "Collecting tensorflow==2.13\n",
      "  Using cached tensorflow-2.13.0-cp39-cp39-manylinux_2_17_x86_64.manylinux2014_x86_64.whl (524.1 MB)\n",
      "Requirement already satisfied: intel-extension-for-tensorflow-lib==2.13.0.0.1 in ./.local/lib/python3.9/site-packages (from intel-extension-for-tensorflow[gpu]) (2.13.0.0.1)\n",
      "Requirement already satisfied: termcolor>=1.1.0 in ./.local/lib/python3.9/site-packages (from tensorflow==2.13->intel-extension-for-tensorflow[gpu]) (2.3.0)\n",
      "Requirement already satisfied: tensorflow-io-gcs-filesystem>=0.23.1 in ./.local/lib/python3.9/site-packages (from tensorflow==2.13->intel-extension-for-tensorflow[gpu]) (0.33.0)\n",
      "Requirement already satisfied: setuptools in /glob/development-tools/versions/oneapi/2023.1.2/oneapi/intelpython/python3.9/lib/python3.9/site-packages (from tensorflow==2.13->intel-extension-for-tensorflow[gpu]) (65.6.3)\n",
      "Requirement already satisfied: h5py>=2.9.0 in ./.local/lib/python3.9/site-packages (from tensorflow==2.13->intel-extension-for-tensorflow[gpu]) (3.9.0)\n",
      "Requirement already satisfied: wrapt>=1.11.0 in ./.local/lib/python3.9/site-packages (from tensorflow==2.13->intel-extension-for-tensorflow[gpu]) (1.14.1)\n",
      "Requirement already satisfied: six>=1.12.0 in /glob/development-tools/versions/oneapi/2023.1.2/oneapi/intelpython/python3.9/lib/python3.9/site-packages (from tensorflow==2.13->intel-extension-for-tensorflow[gpu]) (1.16.0)\n",
      "Requirement already satisfied: astunparse>=1.6.0 in ./.local/lib/python3.9/site-packages (from tensorflow==2.13->intel-extension-for-tensorflow[gpu]) (1.6.3)\n",
      "Requirement already satisfied: packaging in /glob/development-tools/versions/oneapi/2023.1.2/oneapi/intelpython/python3.9/lib/python3.9/site-packages (from tensorflow==2.13->intel-extension-for-tensorflow[gpu]) (22.0)\n",
      "Requirement already satisfied: flatbuffers>=23.1.21 in ./.local/lib/python3.9/site-packages (from tensorflow==2.13->intel-extension-for-tensorflow[gpu]) (23.5.26)\n",
      "Collecting keras<2.14,>=2.13.1\n",
      "  Using cached keras-2.13.1-py3-none-any.whl (1.7 MB)\n",
      "Requirement already satisfied: typing-extensions<4.6.0,>=3.6.6 in ./.local/lib/python3.9/site-packages (from tensorflow==2.13->intel-extension-for-tensorflow[gpu]) (4.5.0)\n",
      "Requirement already satisfied: libclang>=13.0.0 in ./.local/lib/python3.9/site-packages (from tensorflow==2.13->intel-extension-for-tensorflow[gpu]) (16.0.6)\n",
      "Collecting tensorboard<2.14,>=2.13\n",
      "  Using cached tensorboard-2.13.0-py3-none-any.whl (5.6 MB)\n",
      "Requirement already satisfied: protobuf!=4.21.0,!=4.21.1,!=4.21.2,!=4.21.3,!=4.21.4,!=4.21.5,<5.0.0dev,>=3.20.3 in ./.local/lib/python3.9/site-packages (from tensorflow==2.13->intel-extension-for-tensorflow[gpu]) (4.24.0)\n",
      "Requirement already satisfied: google-pasta>=0.1.1 in ./.local/lib/python3.9/site-packages (from tensorflow==2.13->intel-extension-for-tensorflow[gpu]) (0.2.0)\n",
      "Requirement already satisfied: opt-einsum>=2.3.2 in ./.local/lib/python3.9/site-packages (from tensorflow==2.13->intel-extension-for-tensorflow[gpu]) (3.3.0)\n",
      "Collecting tensorflow-estimator<2.14,>=2.13.0\n",
      "  Using cached tensorflow_estimator-2.13.0-py2.py3-none-any.whl (440 kB)\n",
      "Requirement already satisfied: gast<=0.4.0,>=0.2.1 in ./.local/lib/python3.9/site-packages (from tensorflow==2.13->intel-extension-for-tensorflow[gpu]) (0.4.0)\n",
      "Requirement already satisfied: absl-py>=1.0.0 in ./.local/lib/python3.9/site-packages (from tensorflow==2.13->intel-extension-for-tensorflow[gpu]) (1.4.0)\n",
      "Requirement already satisfied: google-auth<3,>=1.6.3 in ./.local/lib/python3.9/site-packages (from tensorboard<2.14,>=2.13->tensorflow==2.13->intel-extension-for-tensorflow[gpu]) (2.22.0)\n",
      "Requirement already satisfied: google-auth-oauthlib<1.1,>=0.5 in ./.local/lib/python3.9/site-packages (from tensorboard<2.14,>=2.13->tensorflow==2.13->intel-extension-for-tensorflow[gpu]) (1.0.0)\n",
      "Requirement already satisfied: requests<3,>=2.21.0 in /glob/development-tools/versions/oneapi/2023.1.2/oneapi/intelpython/python3.9/lib/python3.9/site-packages (from tensorboard<2.14,>=2.13->tensorflow==2.13->intel-extension-for-tensorflow[gpu]) (2.28.1)\n",
      "Requirement already satisfied: tensorboard-data-server<0.8.0,>=0.7.0 in ./.local/lib/python3.9/site-packages (from tensorboard<2.14,>=2.13->tensorflow==2.13->intel-extension-for-tensorflow[gpu]) (0.7.1)\n",
      "Requirement already satisfied: markdown>=2.6.8 in ./.local/lib/python3.9/site-packages (from tensorboard<2.14,>=2.13->tensorflow==2.13->intel-extension-for-tensorflow[gpu]) (3.4.4)\n",
      "Requirement already satisfied: werkzeug>=1.0.1 in ./.local/lib/python3.9/site-packages (from tensorboard<2.14,>=2.13->tensorflow==2.13->intel-extension-for-tensorflow[gpu]) (2.3.6)\n",
      "Requirement already satisfied: cachetools<6.0,>=2.0.0 in ./.local/lib/python3.9/site-packages (from google-auth<3,>=1.6.3->tensorboard<2.14,>=2.13->tensorflow==2.13->intel-extension-for-tensorflow[gpu]) (5.3.1)\n",
      "Requirement already satisfied: urllib3<2.0 in /glob/development-tools/versions/oneapi/2023.1.2/oneapi/intelpython/python3.9/lib/python3.9/site-packages (from google-auth<3,>=1.6.3->tensorboard<2.14,>=2.13->tensorflow==2.13->intel-extension-for-tensorflow[gpu]) (1.26.14)\n",
      "Requirement already satisfied: rsa<5,>=3.1.4 in ./.local/lib/python3.9/site-packages (from google-auth<3,>=1.6.3->tensorboard<2.14,>=2.13->tensorflow==2.13->intel-extension-for-tensorflow[gpu]) (4.9)\n",
      "Requirement already satisfied: pyasn1-modules>=0.2.1 in ./.local/lib/python3.9/site-packages (from google-auth<3,>=1.6.3->tensorboard<2.14,>=2.13->tensorflow==2.13->intel-extension-for-tensorflow[gpu]) (0.3.0)\n",
      "Requirement already satisfied: requests-oauthlib>=0.7.0 in ./.local/lib/python3.9/site-packages (from google-auth-oauthlib<1.1,>=0.5->tensorboard<2.14,>=2.13->tensorflow==2.13->intel-extension-for-tensorflow[gpu]) (1.3.1)\n",
      "Requirement already satisfied: importlib-metadata>=4.4 in /glob/development-tools/versions/oneapi/2023.1.2/oneapi/intelpython/python3.9/lib/python3.9/site-packages (from markdown>=2.6.8->tensorboard<2.14,>=2.13->tensorflow==2.13->intel-extension-for-tensorflow[gpu]) (6.6.0)\n",
      "Requirement already satisfied: charset-normalizer<3,>=2 in /glob/development-tools/versions/oneapi/2023.1.2/oneapi/intelpython/python3.9/lib/python3.9/site-packages (from requests<3,>=2.21.0->tensorboard<2.14,>=2.13->tensorflow==2.13->intel-extension-for-tensorflow[gpu]) (2.0.4)\n",
      "Requirement already satisfied: certifi>=2017.4.17 in /glob/development-tools/versions/oneapi/2023.1.2/oneapi/intelpython/python3.9/lib/python3.9/site-packages (from requests<3,>=2.21.0->tensorboard<2.14,>=2.13->tensorflow==2.13->intel-extension-for-tensorflow[gpu]) (2022.12.7)\n",
      "Requirement already satisfied: idna<4,>=2.5 in /glob/development-tools/versions/oneapi/2023.1.2/oneapi/intelpython/python3.9/lib/python3.9/site-packages (from requests<3,>=2.21.0->tensorboard<2.14,>=2.13->tensorflow==2.13->intel-extension-for-tensorflow[gpu]) (3.4)\n",
      "Requirement already satisfied: MarkupSafe>=2.1.1 in ./.local/lib/python3.9/site-packages (from werkzeug>=1.0.1->tensorboard<2.14,>=2.13->tensorflow==2.13->intel-extension-for-tensorflow[gpu]) (2.1.3)\n",
      "Requirement already satisfied: zipp>=0.5 in /glob/development-tools/versions/oneapi/2023.1.2/oneapi/intelpython/python3.9/lib/python3.9/site-packages (from importlib-metadata>=4.4->markdown>=2.6.8->tensorboard<2.14,>=2.13->tensorflow==2.13->intel-extension-for-tensorflow[gpu]) (3.15.0)\n",
      "Requirement already satisfied: pyasn1<0.6.0,>=0.4.6 in ./.local/lib/python3.9/site-packages (from pyasn1-modules>=0.2.1->google-auth<3,>=1.6.3->tensorboard<2.14,>=2.13->tensorflow==2.13->intel-extension-for-tensorflow[gpu]) (0.5.0)\n",
      "Requirement already satisfied: oauthlib>=3.0.0 in ./.local/lib/python3.9/site-packages (from requests-oauthlib>=0.7.0->google-auth-oauthlib<1.1,>=0.5->tensorboard<2.14,>=2.13->tensorflow==2.13->intel-extension-for-tensorflow[gpu]) (3.2.2)\n",
      "\u001b[33mWARNING: Ignoring invalid distribution - (/home/u200172/.local/lib/python3.9/site-packages)\u001b[0m\u001b[33m\n",
      "\u001b[0m\u001b[33mWARNING: Ignoring invalid distribution -ensorflow (/home/u200172/.local/lib/python3.9/site-packages)\u001b[0m\u001b[33m\n",
      "\u001b[0mInstalling collected packages: tensorflow-estimator, keras, tensorboard, tensorflow\n",
      "  Attempting uninstall: tensorflow-estimator\n",
      "\u001b[33m    WARNING: Ignoring invalid distribution - (/home/u200172/.local/lib/python3.9/site-packages)\u001b[0m\u001b[33m\n",
      "\u001b[0m\u001b[33m    WARNING: Ignoring invalid distribution -ensorflow (/home/u200172/.local/lib/python3.9/site-packages)\u001b[0m\u001b[33m\n",
      "\u001b[0m    Found existing installation: tensorflow-estimator 2.12.0\n",
      "    Uninstalling tensorflow-estimator-2.12.0:\n",
      "      Successfully uninstalled tensorflow-estimator-2.12.0\n",
      "  Attempting uninstall: keras\n",
      "\u001b[33m    WARNING: Ignoring invalid distribution - (/home/u200172/.local/lib/python3.9/site-packages)\u001b[0m\u001b[33m\n",
      "\u001b[0m\u001b[33m    WARNING: Ignoring invalid distribution -ensorflow (/home/u200172/.local/lib/python3.9/site-packages)\u001b[0m\u001b[33m\n",
      "\u001b[0m    Found existing installation: keras 2.12.0\n",
      "    Uninstalling keras-2.12.0:\n",
      "      Successfully uninstalled keras-2.12.0\n",
      "  Attempting uninstall: tensorboard\n",
      "\u001b[33m    WARNING: Ignoring invalid distribution - (/home/u200172/.local/lib/python3.9/site-packages)\u001b[0m\u001b[33m\n",
      "\u001b[0m\u001b[33m    WARNING: Ignoring invalid distribution -ensorflow (/home/u200172/.local/lib/python3.9/site-packages)\u001b[0m\u001b[33m\n",
      "\u001b[0m    Found existing installation: tensorboard 2.12.3\n",
      "    Uninstalling tensorboard-2.12.3:\n",
      "      Successfully uninstalled tensorboard-2.12.3\n",
      "  Attempting uninstall: tensorflow\n",
      "\u001b[33m    WARNING: Ignoring invalid distribution - (/home/u200172/.local/lib/python3.9/site-packages)\u001b[0m\u001b[33m\n",
      "\u001b[0m\u001b[33m    WARNING: Ignoring invalid distribution -ensorflow (/home/u200172/.local/lib/python3.9/site-packages)\u001b[0m\u001b[33m\n",
      "\u001b[0m    Found existing installation: tensorflow 2.12.0rc1\n",
      "    Uninstalling tensorflow-2.12.0rc1:\n",
      "      Successfully uninstalled tensorflow-2.12.0rc1\n",
      "\u001b[31mERROR: Could not install packages due to an OSError: [Errno 16] Device or resource busy: '.nfs0000000016d2cacb00ba2061'\n",
      "\u001b[0m\u001b[31m\n",
      "\u001b[0m\u001b[33mWARNING: Ignoring invalid distribution - (/home/u200172/.local/lib/python3.9/site-packages)\u001b[0m\u001b[33m\n",
      "\u001b[0m\u001b[33mWARNING: Ignoring invalid distribution -ensorflow (/home/u200172/.local/lib/python3.9/site-packages)\u001b[0m\u001b[33m\n",
      "\u001b[0m\u001b[33mWARNING: Ignoring invalid distribution - (/home/u200172/.local/lib/python3.9/site-packages)\u001b[0m\u001b[33m\n",
      "\u001b[0m\u001b[33mWARNING: Ignoring invalid distribution -ensorflow (/home/u200172/.local/lib/python3.9/site-packages)\u001b[0m\u001b[33m\n",
      "\u001b[0m\u001b[33mWARNING: Ignoring invalid distribution - (/home/u200172/.local/lib/python3.9/site-packages)\u001b[0m\u001b[33m\n",
      "\u001b[0m\u001b[33mWARNING: Ignoring invalid distribution -ensorflow (/home/u200172/.local/lib/python3.9/site-packages)\u001b[0m\u001b[33m\n",
      "\u001b[0m"
     ]
    }
   ],
   "source": [
    "!pip install --upgrade intel-extension-for-tensorflow[gpu]"
   ]
  },
  {
   "cell_type": "markdown",
   "id": "cc95d666-fb6a-4b31-9d19-6ab0d154f508",
   "metadata": {},
   "source": [
    "import tensorflow as tf"
   ]
  },
  {
   "cell_type": "markdown",
   "id": "df8a68c3-8afe-4122-a178-17a3f9365d22",
   "metadata": {},
   "source": [
    "import os\n",
    "from PIL import Image \n",
    "import numpy as np\n",
    "import tensorflow as tf\n",
    "from tensorflow import keras\n",
    "from sklearn.model_selection import train_test_split \n",
    "from keras.utils import normalize\n",
    "from keras.models import Sequential\n",
    "from keras.layers import Conv2D,MaxPooling2D,Activation,Dropout,Flatten,Dense\n",
    "from keras.utils import to_categorical\n",
    "import joblib"
   ]
  },
  {
   "cell_type": "markdown",
   "id": "ffdda66b-7bb7-4717-8715-85804b99c34d",
   "metadata": {},
   "source": [
    "# Importing the brain tumor dataset"
   ]
  },
  {
   "cell_type": "code",
   "execution_count": 24,
   "id": "da5ed69a-95c7-49c1-810b-a45ed4ffd7b4",
   "metadata": {},
   "outputs": [],
   "source": [
    "image_directory='datasets/'\n",
    "dataset=[]\n",
    "label=[]\n",
    "no_tumor_images=os.listdir(image_directory+'no/')\n",
    "yes_tumor_images=os.listdir(image_directory+'yes/')"
   ]
  },
  {
   "cell_type": "markdown",
   "id": "1b93c1cd-5f0b-49f3-b7d4-30e85c86cd19",
   "metadata": {},
   "source": [
    "# Reading the image dataset to the numpy array"
   ]
  },
  {
   "cell_type": "code",
   "execution_count": 25,
   "id": "6eec537d-710e-4b24-84a2-8cfdcbbe526e",
   "metadata": {},
   "outputs": [],
   "source": [
    "for i,image_name in enumerate(no_tumor_images):\n",
    "    if(image_name.split('.')[1]=='jpg'):\n",
    "        image = cv2.imread(image_directory + 'no/' + image_name)\n",
    "        image=Image.fromarray(image,'RGB')\n",
    "        image=image.resize((64,64))\n",
    "        dataset.append(np.array(image))\n",
    "        label.append(0)"
   ]
  },
  {
   "cell_type": "code",
   "execution_count": 26,
   "id": "82e5da2d-a37f-4098-add3-213bf80e91e8",
   "metadata": {},
   "outputs": [],
   "source": [
    "dataset=np.array(dataset)\n",
    "label=np.array(label)"
   ]
  },
  {
   "cell_type": "markdown",
   "id": "789b6e7f-30f0-4cda-b859-205e6effad62",
   "metadata": {},
   "source": [
    "# Splitting the training and testing dataset"
   ]
  },
  {
   "cell_type": "code",
   "execution_count": 27,
   "id": "e6447515-7bed-48d6-85b6-782f8bff5bff",
   "metadata": {},
   "outputs": [],
   "source": [
    "X_train,X_test,Y_train,Y_test = train_test_split(dataset,label,test_size=0.2,random_state=0)\n"
   ]
  },
  {
   "cell_type": "markdown",
   "id": "160b367b-7618-4fd6-b6d4-ba15d5b1378f",
   "metadata": {},
   "source": [
    "# Normalizing the dataset "
   ]
  },
  {
   "cell_type": "code",
   "execution_count": 28,
   "id": "04921cf4-b7d4-4b6c-a74f-28be9e80f847",
   "metadata": {},
   "outputs": [],
   "source": [
    "X_train = normalize(X_train,axis=1)\n",
    "X_test = normalize(X_test,axis=1)\n",
    "\n",
    "Y_train = to_categorical(Y_train,num_classes=2)\n",
    "Y_test = to_categorical(Y_test,num_classes=2)"
   ]
  },
  {
   "cell_type": "code",
   "execution_count": 29,
   "id": "d90aa869-6904-4c45-8570-1c55b0a29f3a",
   "metadata": {},
   "outputs": [
    {
     "name": "stdout",
     "output_type": "stream",
     "text": [
      "Defaulting to user installation because normal site-packages is not writeable\n",
      "\u001b[33mWARNING: Ignoring invalid distribution - (/home/u200172/.local/lib/python3.9/site-packages)\u001b[0m\u001b[33m\n",
      "\u001b[0m\u001b[33mWARNING: Ignoring invalid distribution -ensorflow (/home/u200172/.local/lib/python3.9/site-packages)\u001b[0m\u001b[33m\n",
      "\u001b[0m\u001b[33mWARNING: Ignoring invalid distribution - (/home/u200172/.local/lib/python3.9/site-packages)\u001b[0m\u001b[33m\n",
      "\u001b[0m\u001b[33mWARNING: Ignoring invalid distribution -ensorflow (/home/u200172/.local/lib/python3.9/site-packages)\u001b[0m\u001b[33m\n",
      "\u001b[0mRequirement already satisfied: keras==2.12.0rc1 in ./.local/lib/python3.9/site-packages (2.12.0rc1)\n",
      "\u001b[33mWARNING: Ignoring invalid distribution - (/home/u200172/.local/lib/python3.9/site-packages)\u001b[0m\u001b[33m\n",
      "\u001b[0m\u001b[33mWARNING: Ignoring invalid distribution -ensorflow (/home/u200172/.local/lib/python3.9/site-packages)\u001b[0m\u001b[33m\n",
      "\u001b[0m\u001b[33mWARNING: Ignoring invalid distribution - (/home/u200172/.local/lib/python3.9/site-packages)\u001b[0m\u001b[33m\n",
      "\u001b[0m\u001b[33mWARNING: Ignoring invalid distribution -ensorflow (/home/u200172/.local/lib/python3.9/site-packages)\u001b[0m\u001b[33m\n",
      "\u001b[0m\u001b[33mWARNING: Ignoring invalid distribution - (/home/u200172/.local/lib/python3.9/site-packages)\u001b[0m\u001b[33m\n",
      "\u001b[0m\u001b[33mWARNING: Ignoring invalid distribution -ensorflow (/home/u200172/.local/lib/python3.9/site-packages)\u001b[0m\u001b[33m\n",
      "\u001b[0m\u001b[33mWARNING: Ignoring invalid distribution - (/home/u200172/.local/lib/python3.9/site-packages)\u001b[0m\u001b[33m\n",
      "\u001b[0m\u001b[33mWARNING: Ignoring invalid distribution -ensorflow (/home/u200172/.local/lib/python3.9/site-packages)\u001b[0m\u001b[33m\n",
      "\u001b[0m"
     ]
    }
   ],
   "source": [
    "!pip install keras==2.12.0rc1 "
   ]
  },
  {
   "cell_type": "markdown",
   "id": "b009bf90-ef3d-4a46-9ecd-c4ef12831c6f",
   "metadata": {},
   "source": [
    "# Training the model and exporting the model to a pickle file"
   ]
  },
  {
   "cell_type": "code",
   "execution_count": 30,
   "id": "d5dc38ef-6709-47df-9b8c-48edc65e98c5",
   "metadata": {},
   "outputs": [
    {
     "name": "stdout",
     "output_type": "stream",
     "text": [
      "Epoch 1/10\n"
     ]
    },
    {
     "name": "stderr",
     "output_type": "stream",
     "text": [
      "2023-08-10 23:28:39.536928: E itex/core/wrapper/itex_gpu_wrapper.cc:49] Could not load Intel Extension for Tensorflow* GPU backend, GPU will not be used.\n",
      "If you need help, create an issue at https://github.com/intel/intel-extension-for-tensorflow/issues\n"
     ]
    },
    {
     "name": "stdout",
     "output_type": "stream",
     "text": [
      "70/70 [==============================] - 7s 90ms/step - loss: 0.0432 - accuracy: 0.9929 - val_loss: 2.0256e-14 - val_accuracy: 1.0000\n",
      "Epoch 2/10\n",
      "70/70 [==============================] - 7s 105ms/step - loss: 1.4026e-05 - accuracy: 1.0000 - val_loss: 2.8888e-14 - val_accuracy: 1.0000\n",
      "Epoch 3/10\n",
      "70/70 [==============================] - 7s 100ms/step - loss: 1.4279e-04 - accuracy: 1.0000 - val_loss: 9.2913e-15 - val_accuracy: 1.0000\n",
      "Epoch 4/10\n",
      "70/70 [==============================] - 7s 104ms/step - loss: 2.8086e-06 - accuracy: 1.0000 - val_loss: 4.8039e-15 - val_accuracy: 1.0000\n",
      "Epoch 5/10\n",
      "70/70 [==============================] - 7s 94ms/step - loss: 1.8726e-06 - accuracy: 1.0000 - val_loss: 3.6562e-15 - val_accuracy: 1.0000\n",
      "Epoch 6/10\n",
      "70/70 [==============================] - 7s 104ms/step - loss: 3.4157e-06 - accuracy: 1.0000 - val_loss: 1.8694e-15 - val_accuracy: 1.0000\n",
      "Epoch 7/10\n",
      "70/70 [==============================] - 7s 99ms/step - loss: 2.7524e-06 - accuracy: 1.0000 - val_loss: 5.9844e-16 - val_accuracy: 1.0000\n",
      "Epoch 8/10\n",
      "70/70 [==============================] - 7s 101ms/step - loss: 8.0796e-05 - accuracy: 1.0000 - val_loss: 3.4509e-18 - val_accuracy: 1.0000\n",
      "Epoch 9/10\n",
      "70/70 [==============================] - 7s 99ms/step - loss: 2.5883e-04 - accuracy: 1.0000 - val_loss: 9.7659e-20 - val_accuracy: 1.0000\n",
      "Epoch 10/10\n",
      "70/70 [==============================] - 6s 93ms/step - loss: 1.8562e-08 - accuracy: 1.0000 - val_loss: 3.2259e-20 - val_accuracy: 1.0000\n"
     ]
    },
    {
     "data": {
      "text/plain": [
       "['model.pkl']"
      ]
     },
     "execution_count": 30,
     "metadata": {},
     "output_type": "execute_result"
    }
   ],
   "source": [
    "model=Sequential()\n",
    "\n",
    "model.add(Conv2D(32,(3,3),input_shape=(64,64,3)))\n",
    "model.add(Activation('relu'))\n",
    "model.add(MaxPooling2D(pool_size=(2,2)))\n",
    "\n",
    "model.add(Conv2D(32,(3,3),kernel_initializer='he_uniform'))\n",
    "model.add(Activation('relu'))\n",
    "model.add(MaxPooling2D(pool_size=(2,2)))\n",
    "\n",
    "model.add(Conv2D(32,(3,3),kernel_initializer='he_uniform'))\n",
    "model.add(Activation('relu'))\n",
    "model.add(MaxPooling2D(pool_size=(2,2)))\n",
    "\n",
    "model.add(Flatten())\n",
    "model.add(Dense(64))\n",
    "model.add(Activation('relu'))\n",
    "model.add(Dropout(0.5))\n",
    "model.add(Dense(2))\n",
    "model.add(Activation('softmax'))\n",
    "\n",
    "model.compile(loss='binary_crossentropy',optimizer='adam',metrics=['accuracy'])\n",
    "model.fit(X_train,Y_train,batch_size=16,verbose=True,epochs=10,validation_data=(X_test,Y_test),shuffle=False)\n",
    "\n",
    "model.save('BrainTumor10EpochsCategorical.h5')\n",
    "\n",
    "joblib.dump(model,'model.pkl')\n"
   ]
  },
  {
   "cell_type": "markdown",
   "id": "649973c9-c6b5-4581-97ae-b726e6856a5d",
   "metadata": {},
   "source": [
    "# Loading the pickle file"
   ]
  },
  {
   "cell_type": "markdown",
   "id": "055981e8-00c3-4a80-82bc-caba69127817",
   "metadata": {},
   "source": [
    "model=joblib.load('model.pkl')"
   ]
  },
  {
   "cell_type": "markdown",
   "id": "13583f66-8c4d-427d-ae63-6fe68c74c6c4",
   "metadata": {},
   "source": [
    "# Reading a sample image"
   ]
  },
  {
   "cell_type": "code",
   "execution_count": 87,
   "id": "c47ac861-3b2f-4542-936b-8756f2836c50",
   "metadata": {},
   "outputs": [
    {
     "name": "stdout",
     "output_type": "stream",
     "text": [
      "[[[0 0 0]\n",
      "  [0 0 0]\n",
      "  [0 0 0]\n",
      "  ...\n",
      "  [0 0 0]\n",
      "  [0 0 0]\n",
      "  [0 0 0]]\n",
      "\n",
      " [[0 0 0]\n",
      "  [0 0 0]\n",
      "  [0 0 0]\n",
      "  ...\n",
      "  [0 0 0]\n",
      "  [0 0 0]\n",
      "  [0 0 0]]\n",
      "\n",
      " [[0 0 0]\n",
      "  [0 0 0]\n",
      "  [0 0 0]\n",
      "  ...\n",
      "  [0 0 0]\n",
      "  [0 0 0]\n",
      "  [0 0 0]]\n",
      "\n",
      " ...\n",
      "\n",
      " [[0 0 0]\n",
      "  [0 0 0]\n",
      "  [0 0 0]\n",
      "  ...\n",
      "  [0 0 0]\n",
      "  [0 0 0]\n",
      "  [0 0 0]]\n",
      "\n",
      " [[0 0 0]\n",
      "  [0 0 0]\n",
      "  [0 0 0]\n",
      "  ...\n",
      "  [0 0 0]\n",
      "  [0 0 0]\n",
      "  [0 0 0]]\n",
      "\n",
      " [[0 0 0]\n",
      "  [0 0 0]\n",
      "  [0 0 0]\n",
      "  ...\n",
      "  [0 0 0]\n",
      "  [0 0 0]\n",
      "  [0 0 0]]]\n"
     ]
    }
   ],
   "source": [
    "image=cv2.imread('datasets/pred/pred0.jpg')\n",
    "print(image)"
   ]
  },
  {
   "cell_type": "code",
   "execution_count": 88,
   "id": "4c7ac813-5cbb-4d22-ba81-e0a470f904b8",
   "metadata": {},
   "outputs": [
    {
     "data": {
      "text/plain": [
       "<matplotlib.image.AxesImage at 0x7f265a46f730>"
      ]
     },
     "execution_count": 88,
     "metadata": {},
     "output_type": "execute_result"
    },
    {
     "data": {
      "image/png": "[encoded data removed]",
      "text/plain": [
       "<Figure size 640x480 with 1 Axes>"
      ]
     },
     "metadata": {},
     "output_type": "display_data"
    }
   ],
   "source": [
    "import matplotlib.pyplot as plt\n",
    "plt.imshow(img)"
   ]
  },
  {
   "cell_type": "code",
   "execution_count": 89,
   "id": "c710c76a-eba7-4a57-adfe-b64b0a93d7bb",
   "metadata": {},
   "outputs": [],
   "source": [
    "from PIL import Image"
   ]
  },
  {
   "cell_type": "markdown",
   "id": "0fbe628e-e1b0-422a-b91a-481c3c9e6716",
   "metadata": {},
   "source": [
    "# Storing the image in a numpy array"
   ]
  },
  {
   "cell_type": "code",
   "execution_count": 90,
   "id": "0c248a8a-ecde-4b0e-a715-a5cd356a399a",
   "metadata": {},
   "outputs": [],
   "source": [
    "img = Image.fromarray(image)\n",
    "img=img.resize((64,64))\n",
    "img=np.array(img)"
   ]
  },
  {
   "cell_type": "markdown",
   "id": "13340cae-6b3c-43bb-9f70-b8eed782d315",
   "metadata": {},
   "source": [
    "# Predicting whether the individual is suffering from Brain Tumor or not"
   ]
  },
  {
   "cell_type": "code",
   "execution_count": 91,
   "id": "f7361a70-be77-4b50-ae73-9f6363532007",
   "metadata": {},
   "outputs": [
    {
     "name": "stdout",
     "output_type": "stream",
     "text": [
      "1/1 [==============================] - 0s 91ms/step\n"
     ]
    }
   ],
   "source": [
    "input_img=np.expand_dims(img,axis=0)\n",
    "\n",
    "\n",
    "probabilities = model.predict(input_img)\n",
    "\n",
    "probabilities = probabilities.tolist()\n",
    "if(probabilities[0][0]==1.0):\n",
    "    probabilities=1\n",
    "else:\n",
    "    probabilities=0\n"
   ]
  },
  {
   "cell_type": "code",
   "execution_count": 92,
   "id": "6873fa4a-4d93-4482-8fa4-dabf48f14dd9",
   "metadata": {},
   "outputs": [
    {
     "name": "stdout",
     "output_type": "stream",
     "text": [
      "The individual is suffering from brain tumor\n"
     ]
    }
   ],
   "source": [
    "if(probabilities==1):\n",
    "    print(\"The individual is suffering from brain tumor\")\n",
    "else:\n",
    "    print(\"The individual is not suffering from brain tumor\")"
   ]
  },
  {
   "cell_type": "markdown",
   "id": "5a2fe11f-0e4d-4821-8879-bc7ef5dae52b",
   "metadata": {},
   "source": [
    "# Testing for a tumorous brain"
   ]
  },
  {
   "cell_type": "code",
   "execution_count": 95,
   "id": "0d39b008-6d36-4a9b-a255-a21bad08d3ba",
   "metadata": {},
   "outputs": [
    {
     "name": "stdout",
     "output_type": "stream",
     "text": [
      "[[[ 0  0  0]\n",
      "  [ 0  0  0]\n",
      "  [ 0  0  0]\n",
      "  ...\n",
      "  [ 7  7  7]\n",
      "  [10 10 10]\n",
      "  [12 12 12]]\n",
      "\n",
      " [[ 0  0  0]\n",
      "  [ 0  0  0]\n",
      "  [ 0  0  0]\n",
      "  ...\n",
      "  [ 7  7  7]\n",
      "  [10 10 10]\n",
      "  [12 12 12]]\n",
      "\n",
      " [[ 0  0  0]\n",
      "  [ 0  0  0]\n",
      "  [ 0  0  0]\n",
      "  ...\n",
      "  [ 7  7  7]\n",
      "  [10 10 10]\n",
      "  [12 12 12]]\n",
      "\n",
      " ...\n",
      "\n",
      " [[ 0  0  0]\n",
      "  [ 0  0  0]\n",
      "  [ 0  0  0]\n",
      "  ...\n",
      "  [ 0  0  0]\n",
      "  [ 0  0  0]\n",
      "  [ 1  1  1]]\n",
      "\n",
      " [[ 0  0  0]\n",
      "  [ 0  0  0]\n",
      "  [ 0  0  0]\n",
      "  ...\n",
      "  [ 0  0  0]\n",
      "  [ 0  0  0]\n",
      "  [ 1  1  1]]\n",
      "\n",
      " [[ 0  0  0]\n",
      "  [ 0  0  0]\n",
      "  [ 0  0  0]\n",
      "  ...\n",
      "  [ 0  0  0]\n",
      "  [ 0  0  0]\n",
      "  [ 1  1  1]]]\n"
     ]
    }
   ],
   "source": [
    "image=cv2.imread('datasets/pred/pred5.jpg')\n",
    "print(image)"
   ]
  },
  {
   "cell_type": "code",
   "execution_count": 96,
   "id": "723c7912-0147-41fb-b78d-9e0a39f21606",
   "metadata": {},
   "outputs": [
    {
     "data": {
      "text/plain": [
       "<matplotlib.image.AxesImage at 0x7f265ec6b370>"
      ]
     },
     "execution_count": 96,
     "metadata": {},
     "output_type": "execute_result"
    },
    {
     "data": {
      "image/png": "[encoded data removed]",
      "text/plain": [
       "<Figure size 640x480 with 1 Axes>"
      ]
     },
     "metadata": {},
     "output_type": "display_data"
    }
   ],
   "source": [
    "plt.imshow(image)"
   ]
  },
  {
   "cell_type": "code",
   "execution_count": 97,
   "id": "6bfe7d27-39dc-4134-9085-bbeda476c276",
   "metadata": {},
   "outputs": [],
   "source": [
    "from PIL import Image"
   ]
  },
  {
   "cell_type": "code",
   "execution_count": 98,
   "id": "8a8c139c-7ad1-43a7-ac8d-dbee0e2040e2",
   "metadata": {},
   "outputs": [],
   "source": [
    "img = Image.fromarray(image)\n",
    "img=img.resize((64,64))\n",
    "img=np.array(img)"
   ]
  },
  {
   "cell_type": "code",
   "execution_count": 99,
   "id": "0c134c49-7d5a-464a-ae93-005b0173fab7",
   "metadata": {},
   "outputs": [
    {
     "name": "stdout",
     "output_type": "stream",
     "text": [
      "1/1 [==============================] - 0s 81ms/step\n"
     ]
    }
   ],
   "source": [
    "input_img=np.expand_dims(img,axis=0)\n",
    "\n",
    "\n",
    "probabilities = model.predict(input_img)\n",
    "\n",
    "probabilities = probabilities.tolist()\n",
    "if(probabilities[0][0]==1.0):\n",
    "    probabilities=1\n",
    "else:\n",
    "    probabilities=0\n"
   ]
  },
  {
   "cell_type": "code",
   "execution_count": 100,
   "id": "f6787416-66f1-4a1c-b9dd-2695feeebf10",
   "metadata": {},
   "outputs": [
    {
     "name": "stdout",
     "output_type": "stream",
     "text": [
      "The individual is suffering from brain tumor\n"
     ]
    }
   ],
   "source": [
    "if(probabilities==1):\n",
    "    print(\"The individual is suffering from brain tumor\")\n",
    "else:\n",
    "    print(\"The individual is not suffering from brain tumor\")"
   ]
  },
  {
   "cell_type": "code",
   "execution_count": null,
   "id": "8c708ba1-b0e7-4dc8-9f07-17a9d127924d",
   "metadata": {},
   "outputs": [],
   "source": []
  }
 ],
 "metadata": {
  "kernelspec": {
   "display_name": "Python 3 (Intel® oneAPI 2023.2)",
   "language": "python",
   "name": "c009-intel_distribution_of_python_3_oneapi-beta05-python"
  },
  "language_info": {
   "codemirror_mode": {
    "name": "ipython",
    "version": 3
   },
   "file_extension": ".py",
   "mimetype": "text/x-python",
   "name": "python",
   "nbconvert_exporter": "python",
   "pygments_lexer": "ipython3",
   "version": "3.9.16"
  }
 },
 "nbformat": 4,
 "nbformat_minor": 5
}
